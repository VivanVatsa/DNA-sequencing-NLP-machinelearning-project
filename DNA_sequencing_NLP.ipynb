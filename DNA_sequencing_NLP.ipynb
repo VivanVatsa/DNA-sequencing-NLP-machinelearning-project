{
  "nbformat": 4,
  "nbformat_minor": 2,
  "metadata": {
    "colab": {
      "name": "DNA-sequencing-NLP.ipynb",
      "provenance": [],
      "authorship_tag": "ABX9TyOSdRBJLgGSNRIIQTF3v4gt",
      "include_colab_link": true
    },
    "kernelspec": {
      "name": "python3",
      "display_name": "Python 3.9.7 64-bit ('DNA': conda)"
    },
    "language_info": {
      "name": "python",
      "version": "3.9.7",
      "mimetype": "text/x-python",
      "codemirror_mode": {
        "name": "ipython",
        "version": 3
      },
      "pygments_lexer": "ipython3",
      "nbconvert_exporter": "python",
      "file_extension": ".py"
    },
    "accelerator": "GPU",
    "interpreter": {
      "hash": "78b895a0cdcf425ac8edae524c7c8bdd9144b39ba94deb286bb6296ddc0b130f"
    }
  },
  "cells": [
    {
      "cell_type": "markdown",
      "source": [
        "<a href=\"https://colab.research.google.com/github/VivanVatsa/DNA-sequencing-NLP-machinelearning-project/blob/main/DNA_sequencing_NLP.ipynb\" target=\"_parent\"><img src=\"https://colab.research.google.com/assets/colab-badge.svg\" alt=\"Open In Colab\"/></a>"
      ],
      "metadata": {
        "id": "view-in-github",
        "colab_type": "text"
      }
    },
    {
      "cell_type": "markdown",
      "source": [
        "# DNA sequencing using NLP \n",
        "\n",
        "*- applying classifier*"
      ],
      "metadata": {
        "id": "L9XR1nxftZSF"
      }
    },
    {
      "cell_type": "code",
      "execution_count": 1,
      "source": [
        "import pandas as pd\n",
        "import numpy as np\n",
        "import matplotlib.pyplot as plt"
      ],
      "outputs": [],
      "metadata": {}
    }
  ]
}