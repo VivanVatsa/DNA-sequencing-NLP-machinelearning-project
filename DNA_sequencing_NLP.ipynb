{
  "nbformat": 4,
  "nbformat_minor": 0,
  "metadata": {
    "colab": {
      "name": "DNA-sequencing-NLP.ipynb",
      "provenance": [],
      "authorship_tag": "ABX9TyOSdRBJLgGSNRIIQTF3v4gt",
      "include_colab_link": true
    },
    "kernelspec": {
      "name": "python3",
      "display_name": "Python 3"
    },
    "language_info": {
      "name": "python"
    },
    "accelerator": "GPU"
  },
  "cells": [
    {
      "cell_type": "markdown",
      "metadata": {
        "id": "view-in-github",
        "colab_type": "text"
      },
      "source": [
        "<a href=\"https://colab.research.google.com/github/VivanVatsa/DNA-sequencing-NLP-machinelearning-project/blob/main/DNA_sequencing_NLP.ipynb\" target=\"_parent\"><img src=\"https://colab.research.google.com/assets/colab-badge.svg\" alt=\"Open In Colab\"/></a>"
      ]
    },
    {
      "cell_type": "markdown",
      "metadata": {
        "id": "L9XR1nxftZSF"
      },
      "source": [
        "# DNA sequencing using NLP \n",
        "\n",
        "*- applying classifier*"
      ]
    },
    {
      "cell_type": "code",
      "metadata": {
        "id": "htC612iStPAI"
      },
      "source": [
        "import numpy as np\n",
        "import matplotlib.pyplot as plt\n",
        "import pandas as pd"
      ],
      "execution_count": 1,
      "outputs": []
    },
    {
      "cell_type": "code",
      "metadata": {
        "id": "QLUamUNNzC8N"
      },
      "source": [
        ""
      ],
      "execution_count": null,
      "outputs": []
    }
  ]
}